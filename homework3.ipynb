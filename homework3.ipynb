{
 "cells": [
  {
   "cell_type": "code",
   "execution_count": 38,
   "id": "53f9af43",
   "metadata": {},
   "outputs": [],
   "source": [
    "import numpy as np"
   ]
  },
  {
   "cell_type": "code",
   "execution_count": 39,
   "id": "0d992b1f",
   "metadata": {},
   "outputs": [],
   "source": [
    "alpha = -4\n",
    "theta = 8\n",
    "var = 1/2 * theta - 1"
   ]
  },
  {
   "cell_type": "markdown",
   "id": "d930e8dd",
   "metadata": {},
   "source": [
    "### Задача 3"
   ]
  },
  {
   "cell_type": "code",
   "execution_count": 40,
   "id": "9fb60561",
   "metadata": {},
   "outputs": [
    {
     "name": "stdout",
     "output_type": "stream",
     "text": [
      "Estimation for n=50: 10.253\n",
      "Estimation for n=100: 7.904\n",
      "Estimation for n=200: 5.937\n",
      "Estimation for n=400: 11.265\n",
      "Estimation for n=500: 8.033\n",
      "Estimation for n=1000: 9.068\n",
      "Estimation for n=2000: 8.127\n"
     ]
    }
   ],
   "source": [
    "#Мемод моментов\n",
    "np.random.seed(2030030)\n",
    "N_list = [50, 100, 200, 400, 500, 1000, 2000]\n",
    "\n",
    "for n in N_list:\n",
    "    arr = np.random.normal(alpha, np.sqrt(var), n)\n",
    "    hat_theta = 2 * np.mean(arr ** 2) - 2 * alpha ** 2 + 2\n",
    "    print(f\"Estimation for n={n}: {round(hat_theta, 3)}\")"
   ]
  },
  {
   "cell_type": "code",
   "execution_count": 41,
   "id": "5dba9996",
   "metadata": {},
   "outputs": [
    {
     "name": "stdout",
     "output_type": "stream",
     "text": [
      "Estimation for n=50: 6.916\n",
      "Estimation for n=100: 7.651\n",
      "Estimation for n=200: 7.993\n",
      "Estimation for n=400: 7.764\n",
      "Estimation for n=500: 8.371\n",
      "Estimation for n=1000: 8.149\n",
      "Estimation for n=2000: 7.933\n"
     ]
    }
   ],
   "source": [
    "#Метод максимального правдоподобия\n",
    "np.random.seed(2100)\n",
    "N_list = [50, 100, 200, 400, 500, 1000, 2000]\n",
    "\n",
    "for n in N_list:\n",
    "    arr = np.random.normal(alpha, np.sqrt(var), n)\n",
    "    hat_theta = 2 * np.mean((arr - alpha) ** 2) + 2\n",
    "    print(f\"Estimation for n={n}: {round(hat_theta, 3)}\")"
   ]
  },
  {
   "cell_type": "markdown",
   "id": "81d3e10f",
   "metadata": {},
   "source": [
    "### Задача 4"
   ]
  },
  {
   "cell_type": "code",
   "execution_count": 44,
   "id": "eff3cf12",
   "metadata": {},
   "outputs": [
    {
     "name": "stdout",
     "output_type": "stream",
     "text": [
      "Sample var for n=10: 2.1634284040716354\n",
      "Sample var for n=15: 3.178059238248042\n",
      "Sample var for n=30: 2.089459703648979\n"
     ]
    }
   ],
   "source": [
    "np.random.seed(15000055)\n",
    "N_list = [10, 15, 30]\n",
    "\n",
    "for n in N_list:\n",
    "    arr = np.random.normal(alpha, np.sqrt(var), n)\n",
    "    var_ = np.mean((arr - np.mean(arr)) ** 2)\n",
    "    print(f\"Sample var for n={n}: {var_}\")"
   ]
  }
 ],
 "metadata": {
  "kernelspec": {
   "display_name": "Python 3 (ipykernel)",
   "language": "python",
   "name": "python3"
  },
  "language_info": {
   "codemirror_mode": {
    "name": "ipython",
    "version": 3
   },
   "file_extension": ".py",
   "mimetype": "text/x-python",
   "name": "python",
   "nbconvert_exporter": "python",
   "pygments_lexer": "ipython3",
   "version": "3.9.16"
  }
 },
 "nbformat": 4,
 "nbformat_minor": 5
}
